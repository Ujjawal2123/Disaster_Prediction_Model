{
 "cells": [
  {
   "cell_type": "code",
   "execution_count": 3,
   "metadata": {},
   "outputs": [],
   "source": [
    "import os\n",
    "import numpy as np\n",
    "import matplotlib.pyplot as plt\n",
    "import matplotlib.image as mpimg\n",
    "import cv2\n",
    "from PIL import Image, ImageFile\n",
    "from sklearn.model_selection import train_test_split"
   ]
  },
  {
   "cell_type": "code",
   "execution_count": 4,
   "metadata": {},
   "outputs": [
    {
     "name": "stdout",
     "output_type": "stream",
     "text": [
      "JPEG\n"
     ]
    }
   ],
   "source": [
    "from PIL import Image\n",
    "\n",
    "img = Image.open('img.png')\n",
    "# img.show()\n",
    "\n",
    "print(img.format)"
   ]
  },
  {
   "cell_type": "code",
   "execution_count": 5,
   "metadata": {},
   "outputs": [
    {
     "name": "stdout",
     "output_type": "stream",
     "text": [
      "['05_02_0001.png', '05_02_0002.png', '05_02_0003.png', '05_02_0004.png', '05_02_0005.png']\n",
      "['05_02_0032.png', '05_02_0033.png', '05_02_0034.png', '05_02_0035.png', '05_02_0036.png']\n"
     ]
    }
   ],
   "source": [
    "earthquake=os.listdir(r'disaster-images-dataset\\Comprehensive Disaster Dataset(CDD)\\Damaged_Infrastructure\\Earthquake')\n",
    "infrastructure=os.listdir(r'disaster-images-dataset\\Comprehensive Disaster Dataset(CDD)\\Damaged_Infrastructure\\Infrastructure')\n",
    "urban_fire_disaster=os.listdir(r'disaster-images-dataset\\Comprehensive Disaster Dataset(CDD)\\Fire_Disaster\\Urban_Fire')\n",
    "wild_fire_disaster=os.listdir(r'disaster-images-dataset\\Comprehensive Disaster Dataset(CDD)\\Fire_Disaster\\Wild_Fire')\n",
    "human_damage=os.listdir(r'disaster-images-dataset\\Comprehensive Disaster Dataset(CDD)\\Human_Damage')\n",
    "drought=os.listdir(r'disaster-images-dataset\\Comprehensive Disaster Dataset(CDD)\\Land_Disaster\\Drought')\n",
    "landslide=os.listdir(r'disaster-images-dataset\\Comprehensive Disaster Dataset(CDD)\\Land_Disaster\\Land_Slide')\n",
    "water_disaster=os.listdir(r'disaster-images-dataset\\Comprehensive Disaster Dataset(CDD)\\Water_Disaster')\n",
    "print(earthquake[0:5])\n",
    "print(earthquake[-5:])"
   ]
  },
  {
   "cell_type": "code",
   "execution_count": 6,
   "metadata": {},
   "outputs": [
    {
     "name": "stdout",
     "output_type": "stream",
     "text": [
      "4319\n"
     ]
    }
   ],
   "source": [
    "earthquake_label= [1]*36\n",
    "infrastructure_label=[2]*1418\n",
    "urban_fire_disaster_label=[3]*419\n",
    "wild_fire_disaster_label=[4]*514\n",
    "human_damage_label=[5]*240\n",
    "drought_label=[6]*201\n",
    "landslide_label=[7]*456\n",
    "water_disaster_label=[8]*1035\n",
    "labels = earthquake_label+infrastructure_label+urban_fire_disaster_label+wild_fire_disaster_label+human_damage_label+drought_label+landslide_label+water_disaster_label\n",
    "print(len(labels))"
   ]
  },
  {
   "cell_type": "code",
   "execution_count": 7,
   "metadata": {},
   "outputs": [],
   "source": [
    "earthquake_path = r'disaster-images-dataset\\Comprehensive Disaster Dataset(CDD)\\Damaged_Infrastructure\\Earthquake'\n",
    "infrastructure_path = r'disaster-images-dataset\\Comprehensive Disaster Dataset(CDD)\\Damaged_Infrastructure\\Infrastructure'\n",
    "urban_fire_disaster_path = r'disaster-images-dataset\\Comprehensive Disaster Dataset(CDD)\\Fire_Disaster\\Urban_Fire'\n",
    "wild_fire_disaster_path = r'disaster-images-dataset\\Comprehensive Disaster Dataset(CDD)\\Fire_Disaster\\Wild_Fire'\n",
    "human_damage_path = r'disaster-images-dataset\\Comprehensive Disaster Dataset(CDD)\\Human_Damage'\n",
    "drought_path = r'disaster-images-dataset\\Comprehensive Disaster Dataset(CDD)\\Land_Disaster\\Drought'\n",
    "landslide_path = r'disaster-images-dataset\\Comprehensive Disaster Dataset(CDD)\\Land_Disaster\\Land_Slide'\n",
    "water_disaster_path = r'disaster-images-dataset\\Comprehensive Disaster Dataset(CDD)\\Water_Disaster'"
   ]
  },
  {
   "cell_type": "code",
   "execution_count": 8,
   "metadata": {},
   "outputs": [
    {
     "data": {
      "text/plain": [
       "4319"
      ]
     },
     "execution_count": 8,
     "metadata": {},
     "output_type": "execute_result"
    }
   ],
   "source": [
    "# Image Processing\n",
    "# Resize the images\n",
    "# convert images to numpy array\n",
    "# earthquake_path='/content/data/with_mask'\n",
    "\n",
    "data=[] # an empty list\n",
    "ImageFile.LOAD_TRUNCATED_IMAGES = True\n",
    "\n",
    "for disaster, path in (\n",
    "  [earthquake, earthquake_path],\n",
    "  [infrastructure, infrastructure_path],\n",
    "  [urban_fire_disaster, urban_fire_disaster_path],\n",
    "  [wild_fire_disaster, wild_fire_disaster_path],\n",
    "  [human_damage, human_damage_path],\n",
    "  [drought, drought_path],\n",
    "  [landslide, landslide_path],\n",
    "  [water_disaster, water_disaster_path],\n",
    "                       ):\n",
    "  for img_file in disaster:\n",
    "    # print(img_file, path)\n",
    "    # try:\n",
    "    image=Image.open(path+'/'+img_file)\n",
    "    image=image.resize((128,128))\n",
    "    # convert all images to RGB image\n",
    "    image=image.convert('RGB')\n",
    "    image=np.array(image)\n",
    "    data.append(image)\n",
    "    # except Exception:\n",
    "    #   continue\n",
    "  \n",
    "len(data)\n",
    "\n",
    "# without_mask_path='/content/data/without_mask'\n",
    "\n",
    "# for img_file in without_mask_files:\n",
    "#   image=Image.open(without_mask_path+'/'+img_file)\n",
    "#   image=image.resize((128,128))\n",
    "#   # convert all images to RGB image\n",
    "#   image=image.convert('RGB')\n",
    "#   image=np.array(image)\n",
    "#   data.append(image)\n"
   ]
  },
  {
   "cell_type": "code",
   "execution_count": 9,
   "metadata": {},
   "outputs": [],
   "source": [
    "X=np.array(data)\n",
    "Y=np.array(labels)\n",
    "# do train test split\n",
    "X_train,X_test,Y_train,Y_test=train_test_split(X,Y,test_size=0.2, random_state=2)"
   ]
  },
  {
   "cell_type": "code",
   "execution_count": 10,
   "metadata": {},
   "outputs": [
    {
     "name": "stdout",
     "output_type": "stream",
     "text": [
      "(4319, 128, 128, 3) (3455, 128, 128, 3) (864, 128, 128, 3)\n"
     ]
    }
   ],
   "source": [
    "print(X.shape,X_train.shape,X_test.shape)"
   ]
  },
  {
   "cell_type": "code",
   "execution_count": 11,
   "metadata": {},
   "outputs": [],
   "source": [
    "# scale the data\n",
    "\n",
    "X_train_scaled=X_train/255\n",
    "X_test_scaled=X_test/255"
   ]
  },
  {
   "cell_type": "code",
   "execution_count": 2,
   "metadata": {},
   "outputs": [],
   "source": [
    "from tensorflow import keras\n",
    "from keras.models import Sequential # type: ignore\n",
    "from keras.layers import Conv2D,MaxPooling2D,Flatten,Dense,Dropout # type: ignore\n"
   ]
  },
  {
   "cell_type": "code",
   "execution_count": null,
   "metadata": {},
   "outputs": [],
   "source": [
    "num_of_classes=9\n",
    "model=Sequential()\n",
    "\n",
    "model.add(Conv2D(64,kernel_size=(3,3),activation='relu',input_shape=(128,128,3)))\n",
    "model.add(MaxPooling2D(pool_size=(2,2)))\n",
    "\n",
    "model.add(Conv2D(32,kernel_size=(3,3),activation='relu'))\n",
    "model.add(MaxPooling2D(pool_size=(2,2)))\n",
    "\n",
    "model.add(Flatten())\n",
    "\n",
    "model.add(Dense(128,activation='relu'))\n",
    "model.add(Dropout(0.2))\n",
    "\n",
    "model.add(Dense(64,activation='relu'))\n",
    "model.add(Dropout(0.2))\n",
    "\n",
    "model.add(Dense(num_of_classes,activation='softmax'))\n",
    "model.compile(optimizer='adam',loss='sparse_categorical_crossentropy',metrics=['accuracy'])\n",
    "history=model.fit(X_train_scaled,Y_train,validation_split=0.2,epochs=10)"
   ]
  },
  {
   "cell_type": "code",
   "execution_count": 25,
   "metadata": {},
   "outputs": [
    {
     "name": "stdout",
     "output_type": "stream",
     "text": [
      "\u001b[1m1/1\u001b[0m \u001b[32m━━━━━━━━━━━━━━━━━━━━\u001b[0m\u001b[37m\u001b[0m \u001b[1m0s\u001b[0m 21ms/step\n",
      "[[2.0761233e-16 3.0694444e-10 2.6573159e-04 8.2539368e-01 1.7431863e-01\n",
      "  2.1265852e-05 4.7445599e-08 6.3454877e-07 3.3629600e-08]]\n",
      "3\n"
     ]
    }
   ],
   "source": [
    "input_image_path = 'urban.jpeg'\n",
    "input_image=cv2.imread(input_image_path)\n",
    "\n",
    "input_image_resized=cv2.resize(input_image,(128,128))\n",
    "input_image_scaled=input_image_resized/255\n",
    "input_image_reshaped=np.reshape(input_image_scaled,[1,128,128,3])\n",
    "input_prediction=model.predict(input_image_reshaped)\n",
    "print(input_prediction)\n",
    "\n",
    "input_pred_label=np.argmax(input_prediction)\n",
    "print(input_pred_label)\n"
   ]
  }
 ],
 "metadata": {
  "kernelspec": {
   "display_name": "env",
   "language": "python",
   "name": "python3"
  },
  "language_info": {
   "codemirror_mode": {
    "name": "ipython",
    "version": 3
   },
   "file_extension": ".py",
   "mimetype": "text/x-python",
   "name": "python",
   "nbconvert_exporter": "python",
   "pygments_lexer": "ipython3",
   "version": "3.12.2"
  }
 },
 "nbformat": 4,
 "nbformat_minor": 2
}
